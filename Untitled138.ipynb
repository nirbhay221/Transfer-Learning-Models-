{
  "nbformat": 4,
  "nbformat_minor": 0,
  "metadata": {
    "colab": {
      "name": "Untitled138.ipynb",
      "provenance": [],
      "collapsed_sections": []
    },
    "kernelspec": {
      "name": "python3",
      "display_name": "Python 3"
    },
    "accelerator": "GPU"
  },
  "cells": [
    {
      "cell_type": "code",
      "metadata": {
        "id": "oyATqgh6aCzd"
      },
      "source": [
        "import tensorflow as tf\r\n",
        "import tensorflow_hub as hub\r\n",
        "import tensorflow_datasets as tfds \r\n"
      ],
      "execution_count": null,
      "outputs": []
    },
    {
      "cell_type": "code",
      "metadata": {
        "id": "z5PzYBQgePWb"
      },
      "source": [
        "devices = tf.config.list_physical_devices('GPU')"
      ],
      "execution_count": null,
      "outputs": []
    },
    {
      "cell_type": "code",
      "metadata": {
        "colab": {
          "base_uri": "https://localhost:8080/"
        },
        "id": "q0N5N0dNfVx1",
        "outputId": "c4b9d960-3f23-4848-e836-4d93a6d9fd08"
      },
      "source": [
        "print(devices[0])"
      ],
      "execution_count": null,
      "outputs": [
        {
          "output_type": "stream",
          "text": [
            "PhysicalDevice(name='/physical_device:GPU:0', device_type='GPU')\n"
          ],
          "name": "stdout"
        }
      ]
    },
    {
      "cell_type": "code",
      "metadata": {
        "id": "e1x5H3xkfXGm"
      },
      "source": [
        "gpu_name = 'GPU:0'\r\n",
        "one_strategy = tf.distribute.OneDeviceStrategy(device=gpu_name)\r\n"
      ],
      "execution_count": null,
      "outputs": []
    },
    {
      "cell_type": "code",
      "metadata": {
        "colab": {
          "base_uri": "https://localhost:8080/"
        },
        "id": "ErVnREcIhV2Z",
        "outputId": "7df81a15-8e97-406e-c086-51d574026d1e"
      },
      "source": [
        "pixels = 224\r\n",
        "MODULE_HANDLE = 'https://tfhub.dev/tensorflow/resnet_50/feature_vector/1'\r\n",
        "image_size = (pixels,pixels)\r\n",
        "batch_size=32\r\n",
        "print('Using {} with input size {}'.format(MODULE_HANDLE,image_size) )"
      ],
      "execution_count": null,
      "outputs": [
        {
          "output_type": "stream",
          "text": [
            "Using https://tfhub.dev/tensorflow/resnet_50/feature_vector/1 with input size (224, 224)\n"
          ],
          "name": "stdout"
        }
      ]
    },
    {
      "cell_type": "code",
      "metadata": {
        "id": "K_ZxkCW1pmHO"
      },
      "source": [
        "split,info = tfds.load('cats_vs_dogs',split = ['train[:80%]','train[80%:90%]','train[90%:]'],with_info=True,as_supervised=True)\r\n",
        "num_examples = info.splits['train'].num_examples\r\n",
        "num_classes = info.features['label'].num_classes\r\n"
      ],
      "execution_count": null,
      "outputs": []
    },
    {
      "cell_type": "code",
      "metadata": {
        "id": "ANfOlQnuxrgm"
      },
      "source": [
        "def format_image(image,label):\r\n",
        "  image = tf.image.resize(image,size=(image_size))//255.\r\n",
        "  return image,label"
      ],
      "execution_count": null,
      "outputs": []
    },
    {
      "cell_type": "code",
      "metadata": {
        "id": "HVdwa0BT14MG"
      },
      "source": [
        "(train_examples,validation_examples,test_examples ) = split"
      ],
      "execution_count": null,
      "outputs": []
    },
    {
      "cell_type": "code",
      "metadata": {
        "id": "sa6ds2uM2Dtr"
      },
      "source": [
        "train_batches =train_examples.shuffle(buffer_size=num_examples//4).map(format_image).batch(batch_size).prefetch(1) \r\n",
        "validation_batches = validation_examples.map(format_image).batch(batch_size).prefetch(1)\r\n",
        "test_batches = test_examples.map(format_image).batch(1)"
      ],
      "execution_count": null,
      "outputs": []
    },
    {
      "cell_type": "code",
      "metadata": {
        "colab": {
          "base_uri": "https://localhost:8080/"
        },
        "id": "MtB3EI0D3bYw",
        "outputId": "92b2cdf3-01a0-46ed-a564-31c7481830db"
      },
      "source": [
        "for image_batch,label_batch in train_batches.take(1):\r\n",
        "  pass\r\n",
        "print(image_batch.shape)"
      ],
      "execution_count": null,
      "outputs": [
        {
          "output_type": "stream",
          "text": [
            "(32, 224, 224, 3)\n"
          ],
          "name": "stdout"
        }
      ]
    },
    {
      "cell_type": "code",
      "metadata": {
        "id": "SQPsBfw_6FLl"
      },
      "source": [
        "do_fine_tuning = False\r\n"
      ],
      "execution_count": null,
      "outputs": []
    },
    {
      "cell_type": "code",
      "metadata": {
        "id": "9apYOGgt6SGc"
      },
      "source": [
        "def build_and_compile_model():\r\n",
        "  print('Builing Model with ', MODULE_HANDLE)\r\n",
        "  feature_extractor = hub.KerasLayer(MODULE_HANDLE,input_shape=image_size+(3,),trainable=do_fine_tuning)\r\n",
        "  model = tf.keras.Sequential([\r\n",
        "                   feature_extractor,\r\n",
        "                   tf.keras.layers.Dense(num_classes,activation='softmax')                   \r\n",
        "  ])\r\n",
        "  model.summary()\r\n",
        "  optimizer= tf.ekras.optimizers.SGD(lr = 0.001,momentum =0.9) if do_fine_tuning else 'adam'\r\n",
        "  model.compile(optimizer,loss= 'sparse_categorical_crossentropy',metrics=['accuracy'])\r\n",
        "  return model\r\n"
      ],
      "execution_count": null,
      "outputs": []
    },
    {
      "cell_type": "code",
      "metadata": {
        "colab": {
          "base_uri": "https://localhost:8080/"
        },
        "id": "Pfqob9XE9s41",
        "outputId": "58e8f687-4d7e-4891-f66c-32c10690fbd0"
      },
      "source": [
        "with one_strategy.scope():\r\n",
        "  model = build_and_compile_model()\r\n",
        "  "
      ],
      "execution_count": null,
      "outputs": [
        {
          "output_type": "stream",
          "text": [
            "Builing Model with  https://tfhub.dev/tensorflow/resnet_50/feature_vector/1\n",
            "Model: \"sequential\"\n",
            "_________________________________________________________________\n",
            "Layer (type)                 Output Shape              Param #   \n",
            "=================================================================\n",
            "keras_layer (KerasLayer)     (None, 2048)              23561152  \n",
            "_________________________________________________________________\n",
            "dense (Dense)                (None, 2)                 4098      \n",
            "=================================================================\n",
            "Total params: 23,565,250\n",
            "Trainable params: 4,098\n",
            "Non-trainable params: 23,561,152\n",
            "_________________________________________________________________\n"
          ],
          "name": "stdout"
        }
      ]
    },
    {
      "cell_type": "code",
      "metadata": {
        "colab": {
          "base_uri": "https://localhost:8080/"
        },
        "id": "YeJnob3H94q5",
        "outputId": "3f4acdad-6e83-49e1-ea11-0edeb7fa4506"
      },
      "source": [
        "epochs = 5\r\n",
        "hist =model.fit(train_batches,epochs= epochs,validation_data = validation_batches)"
      ],
      "execution_count": null,
      "outputs": [
        {
          "output_type": "stream",
          "text": [
            "Epoch 1/5\n",
            "582/582 [==============================] - 80s 109ms/step - loss: 0.7040 - accuracy: 0.5627 - val_loss: 0.6973 - val_accuracy: 0.5370\n",
            "Epoch 2/5\n",
            "582/582 [==============================] - 69s 112ms/step - loss: 0.6723 - accuracy: 0.5822 - val_loss: 0.6720 - val_accuracy: 0.5997\n",
            "Epoch 3/5\n",
            "582/582 [==============================] - 69s 112ms/step - loss: 0.6609 - accuracy: 0.6002 - val_loss: 0.6707 - val_accuracy: 0.5959\n",
            "Epoch 4/5\n",
            "582/582 [==============================] - 69s 112ms/step - loss: 0.6562 - accuracy: 0.6014 - val_loss: 0.7177 - val_accuracy: 0.5520\n",
            "Epoch 5/5\n",
            "582/582 [==============================] - 69s 112ms/step - loss: 0.6547 - accuracy: 0.6070 - val_loss: 0.6903 - val_accuracy: 0.5838\n"
          ],
          "name": "stdout"
        }
      ]
    },
    {
      "cell_type": "code",
      "metadata": {
        "id": "phoKFwWD-T1Q"
      },
      "source": [
        ""
      ],
      "execution_count": null,
      "outputs": []
    }
  ]
}