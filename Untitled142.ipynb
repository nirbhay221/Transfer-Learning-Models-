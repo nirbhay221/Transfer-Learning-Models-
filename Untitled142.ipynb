{
  "nbformat": 4,
  "nbformat_minor": 0,
  "metadata": {
    "colab": {
      "name": "Untitled142.ipynb",
      "provenance": [],
      "collapsed_sections": []
    },
    "kernelspec": {
      "name": "python3",
      "display_name": "Python 3"
    }
  },
  "cells": [
    {
      "cell_type": "code",
      "metadata": {
        "id": "Gu3vdBb4gx7Z"
      },
      "source": [
        "import tensorflow as tf\r\n",
        "import numpy as np\r\n",
        "import matplotlib.pyplot as plt\r\n"
      ],
      "execution_count": null,
      "outputs": []
    },
    {
      "cell_type": "code",
      "metadata": {
        "id": "R2UZJfxrgyAY"
      },
      "source": [
        "(train_images,train_labels),(val_images,val_labels)= tf.keras.datasets.cifar10.load_data()"
      ],
      "execution_count": null,
      "outputs": []
    },
    {
      "cell_type": "code",
      "metadata": {
        "id": "Y6yMsu3WgyCv"
      },
      "source": [
        "batch_size=32\r\n",
        "\r\n",
        "classes = ['airplane', 'automobile', 'bird', 'cat', 'deer', 'dog', 'frog', 'horse', 'ship', 'truck']\r\n"
      ],
      "execution_count": null,
      "outputs": []
    },
    {
      "cell_type": "code",
      "metadata": {
        "id": "dM8qaCHOgyGi"
      },
      "source": [
        "def process_input(images):\r\n",
        "  img = tf.cast(images,'float32')\r\n",
        "  img = tf.keras.applications.resnet50.preprocess_input(img)\r\n",
        "  return img"
      ],
      "execution_count": null,
      "outputs": []
    },
    {
      "cell_type": "code",
      "metadata": {
        "id": "zxfmvGYdgyHv"
      },
      "source": [
        "x_train =  process_input(train_images)\r\n",
        "x_val = process_input(val_images)\r\n"
      ],
      "execution_count": null,
      "outputs": []
    },
    {
      "cell_type": "code",
      "metadata": {
        "id": "pal_gjkHgyMw"
      },
      "source": [
        "def predefined_model(inputs):\r\n",
        "  resnet = tf.keras.applications.resnet50.ResNet50(weights='imagenet',include_top=False,input_shape=(224,224,3))\r\n",
        "  x = resnet(inputs)\r\n",
        "  return x"
      ],
      "execution_count": null,
      "outputs": []
    },
    {
      "cell_type": "code",
      "metadata": {
        "id": "b4p4LitigyN1"
      },
      "source": [
        "def base_model(inputs):\r\n",
        "  x = predefined_model(inputs)\r\n",
        "  x= tf.keras.layers.GlobalAveragePooling2D()(x)\r\n",
        "  x = tf.keras.layers.Flatten()(x)\r\n",
        "  x = tf.keras.layers.Dense(1024,activation='relu')(x)\r\n",
        "  x = tf.keras.layers.Dense(512,activation='relu')(x)\r\n",
        "  x = tf.keras.layers.Dense(len(classes),activation='softmax')(x)\r\n",
        "  return x"
      ],
      "execution_count": null,
      "outputs": []
    },
    {
      "cell_type": "code",
      "metadata": {
        "id": "YgEpC5YigyTo"
      },
      "source": [
        "def get_model():\r\n",
        "  Input = tf.keras.layers.Input(shape=(32,32,3))\r\n",
        "  x = tf.keras.layers.UpSampling2D(size=(7,7))(Input)\r\n",
        "  x = base_model(x)\r\n",
        "  model = tf.keras.Model(inputs = Input,outputs=x)\r\n",
        "  model.compile(optimizer='sgd',metrics=['accuracy'],loss=tf.keras.losses.SparseCategoricalCrossentropy())\r\n",
        "  return model\r\n"
      ],
      "execution_count": null,
      "outputs": []
    },
    {
      "cell_type": "code",
      "metadata": {
        "colab": {
          "base_uri": "https://localhost:8080/"
        },
        "id": "l-O2MszGgyUo",
        "outputId": "5131f768-acf4-4b6c-d1fe-2635bcc77f43"
      },
      "source": [
        "model = get_model()\r\n",
        "model.summary()"
      ],
      "execution_count": null,
      "outputs": [
        {
          "output_type": "stream",
          "text": [
            "Downloading data from https://storage.googleapis.com/tensorflow/keras-applications/resnet/resnet50_weights_tf_dim_ordering_tf_kernels_notop.h5\n",
            "94773248/94765736 [==============================] - 1s 0us/step\n",
            "Model: \"model\"\n",
            "_________________________________________________________________\n",
            "Layer (type)                 Output Shape              Param #   \n",
            "=================================================================\n",
            "input_1 (InputLayer)         [(None, 32, 32, 3)]       0         \n",
            "_________________________________________________________________\n",
            "up_sampling2d (UpSampling2D) (None, 224, 224, 3)       0         \n",
            "_________________________________________________________________\n",
            "resnet50 (Functional)        (None, 7, 7, 2048)        23587712  \n",
            "_________________________________________________________________\n",
            "global_average_pooling2d (Gl (None, 2048)              0         \n",
            "_________________________________________________________________\n",
            "flatten (Flatten)            (None, 2048)              0         \n",
            "_________________________________________________________________\n",
            "dense (Dense)                (None, 1024)              2098176   \n",
            "_________________________________________________________________\n",
            "dense_1 (Dense)              (None, 512)               524800    \n",
            "_________________________________________________________________\n",
            "dense_2 (Dense)              (None, 10)                5130      \n",
            "=================================================================\n",
            "Total params: 26,215,818\n",
            "Trainable params: 26,162,698\n",
            "Non-trainable params: 53,120\n",
            "_________________________________________________________________\n"
          ],
          "name": "stdout"
        }
      ]
    },
    {
      "cell_type": "code",
      "metadata": {
        "colab": {
          "base_uri": "https://localhost:8080/"
        },
        "id": "-kvl-_jegyaB",
        "outputId": "82e2eed9-2afb-4a86-f3fe-30c0065b0a97"
      },
      "source": [
        "epochs =4 \r\n",
        "hist = model.fit(x_train,train_labels,epochs=epochs,validation_data=(x_val,val_labels),batch_size=32,validation_batch_size=32)"
      ],
      "execution_count": null,
      "outputs": [
        {
          "output_type": "stream",
          "text": [
            "Epoch 1/4\n",
            "1563/1563 [==============================] - 33657s 22s/step - loss: 0.6147 - accuracy: 0.7946 - val_loss: 0.1805 - val_accuracy: 0.9373\n",
            "Epoch 2/4\n",
            " 298/1563 [====>.........................] - ETA: 7:18:46 - loss: 0.1007 - accuracy: 0.9702"
          ],
          "name": "stdout"
        }
      ]
    },
    {
      "cell_type": "code",
      "metadata": {
        "id": "vJNhMLOpgya5"
      },
      "source": [
        ""
      ],
      "execution_count": null,
      "outputs": []
    },
    {
      "cell_type": "code",
      "metadata": {
        "id": "OzQDlgBZgygT"
      },
      "source": [
        ""
      ],
      "execution_count": null,
      "outputs": []
    },
    {
      "cell_type": "code",
      "metadata": {
        "id": "TlLPz1n9gyhS"
      },
      "source": [
        ""
      ],
      "execution_count": null,
      "outputs": []
    },
    {
      "cell_type": "code",
      "metadata": {
        "id": "xrWbGPMvgym1"
      },
      "source": [
        ""
      ],
      "execution_count": null,
      "outputs": []
    },
    {
      "cell_type": "code",
      "metadata": {
        "id": "RAyy_cqRgyn8"
      },
      "source": [
        ""
      ],
      "execution_count": null,
      "outputs": []
    },
    {
      "cell_type": "code",
      "metadata": {
        "id": "KFuzQQ5Ugytd"
      },
      "source": [
        ""
      ],
      "execution_count": null,
      "outputs": []
    },
    {
      "cell_type": "code",
      "metadata": {
        "id": "FmiYq0VEgyu-"
      },
      "source": [
        ""
      ],
      "execution_count": null,
      "outputs": []
    },
    {
      "cell_type": "code",
      "metadata": {
        "id": "QiPC3x_2gyzJ"
      },
      "source": [
        ""
      ],
      "execution_count": null,
      "outputs": []
    },
    {
      "cell_type": "code",
      "metadata": {
        "id": "5m71-vrGgy0w"
      },
      "source": [
        ""
      ],
      "execution_count": null,
      "outputs": []
    },
    {
      "cell_type": "code",
      "metadata": {
        "id": "ifzA9Eejgy6Z"
      },
      "source": [
        ""
      ],
      "execution_count": null,
      "outputs": []
    },
    {
      "cell_type": "code",
      "metadata": {
        "id": "FX6jmeG3gy71"
      },
      "source": [
        ""
      ],
      "execution_count": null,
      "outputs": []
    },
    {
      "cell_type": "code",
      "metadata": {
        "id": "-nhpI6O9gzFg"
      },
      "source": [
        ""
      ],
      "execution_count": null,
      "outputs": []
    },
    {
      "cell_type": "code",
      "metadata": {
        "id": "Vwk9hyN5gzGw"
      },
      "source": [
        ""
      ],
      "execution_count": null,
      "outputs": []
    }
  ]
}